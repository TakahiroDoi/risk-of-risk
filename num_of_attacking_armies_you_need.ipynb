{
  "nbformat": 4,
  "nbformat_minor": 0,
  "metadata": {
    "colab": {
      "name": "num_of_attacking_armies_you_need.ipynb",
      "provenance": [],
      "authorship_tag": "ABX9TyOYwQcrFD6dxHIXD9uyBeqw",
      "include_colab_link": true
    },
    "kernelspec": {
      "name": "python3",
      "display_name": "Python 3"
    },
    "language_info": {
      "name": "python"
    }
  },
  "cells": [
    {
      "cell_type": "markdown",
      "metadata": {
        "id": "view-in-github",
        "colab_type": "text"
      },
      "source": [
        "<a href=\"https://colab.research.google.com/github/TakahiroDoi/risk-of-risk/blob/main/num_of_attacking_armies_you_need.ipynb\" target=\"_parent\"><img src=\"https://colab.research.google.com/assets/colab-badge.svg\" alt=\"Open In Colab\"/></a>"
      ]
    },
    {
      "cell_type": "markdown",
      "metadata": {
        "id": "MF8kysperVVm"
      },
      "source": [
        "# More detailed simulation for a good attack strategy\n",
        "* Simulate the probability of each possible scenario of attack\n",
        "* Parameters \n",
        "  * \\# of opponent armies \n",
        "  * \\# of my armies (range: \\# of opponent armies+1: \\# of opponent armies+10)\n",
        "* Assume the attack is always done with three armies\n",
        "* Attack ends when the territory is taken or the \\# of attacking armies is reduced to the \\# of opponent armies \n",
        "  \n",
        "* Rule: https://www.hasbro.com/common/instruct/risk.pdf"
      ]
    },
    {
      "cell_type": "code",
      "metadata": {
        "id": "2Ftp95iyrP8d"
      },
      "source": [
        "import numpy as np\n",
        "import matplotlib.pyplot as plt\n",
        "from IPython.core.debugger import set_trace"
      ],
      "execution_count": 90,
      "outputs": []
    },
    {
      "cell_type": "code",
      "metadata": {
        "id": "oIak-AaNvdSn"
      },
      "source": [
        "num_trials  = 1000\n",
        "num_opponent_armies = 3\n",
        "num_my_armies = list(range(num_opponent_armies+1, num_opponent_armies+11))"
      ],
      "execution_count": 91,
      "outputs": []
    },
    {
      "cell_type": "code",
      "metadata": {
        "id": "CwvqjQFUyDm9"
      },
      "source": [
        "def roll_dice(num_dice):\n",
        "  \"\"\" Helper function: roll `num_dice` dice \n",
        "\n",
        "  Args:\n",
        "      num_dice (int): number of dice rolled  \n",
        "\n",
        "  Returns:\n",
        "      list: sorted roll results (descending)    \n",
        "  \"\"\"\n",
        "  my_rolls = np.random.randint(low=1,high=7,size=num_dice) # samples from [low, high)  \n",
        "  return np.sort(my_rolls)[::-1]  # Descending order "
      ],
      "execution_count": 92,
      "outputs": []
    },
    {
      "cell_type": "code",
      "metadata": {
        "id": "kQnOwbgqtLxD"
      },
      "source": [
        "def simulate_single_attack(num_curr_my_armies, num_curr_op_armies):\n",
        "  \"\"\" Helper function: simulate single attack event  \n",
        "\n",
        "  Args:\n",
        "      num_curr_my_armies (int): number of my aries (current)   \n",
        "      num_curr_op_armies (int): number of opponent aries (current)   \n",
        "\n",
        "  Returns:\n",
        "      num_next_my_armies (int): number of my aries (after the attack)   \n",
        "      num_next_op_armies (int): number of opponent aries (after the attack)   \n",
        "  \"\"\"\n",
        "  # Assume always atacking with 3 dice \n",
        "  num_my_dice = 3\n",
        "  my_rolls = roll_dice(num_my_dice)\n",
        "   \n",
        "  if num_curr_op_armies == 1: \n",
        "    num_op_dice = 1\n",
        "    op_rolls = roll_dice(num_op_dice)\n",
        "    my_rolls = my_rolls[0]\n",
        "      \n",
        "  else:\n",
        "    num_op_dice = 2\n",
        "    op_rolls = roll_dice(num_op_dice)\n",
        "    my_rolls = my_rolls[0:2]\n",
        "\n",
        "  num_my_wins = sum( (my_rolls - op_rolls)>0 )  \n",
        "  num_op_wins = len(op_rolls) - num_my_wins\n",
        "\n",
        "  num_next_op_armies = num_curr_op_armies - num_my_wins\n",
        "  num_next_my_armies = num_curr_my_armies - num_op_wins\n",
        "\n",
        "  debug = False\n",
        "  if debug:\n",
        "    print('\\n-------------------')\n",
        "    print('num_curr_my_armies: ', num_curr_my_armies)\n",
        "    print('num_curr_op_armies: ', num_curr_op_armies)\n",
        "    print('num_op_dice: ', num_op_dice)\n",
        "    print('my_rolls: ', my_rolls)\n",
        "    print('op_rolls: ', op_rolls)\n",
        "    print('num_my_wins: ', num_my_wins)\n",
        "    print('num_op_wins: ', num_op_wins)\n",
        "    print('num_next_my_armies: ', num_next_my_armies)\n",
        "    print('num_next_op_armies: ', num_next_op_armies)\n",
        "    set_trace()\n",
        "    # breakpoint() # Did NOT work....\n",
        "  \n",
        "  return num_next_my_armies, num_next_op_armies"
      ],
      "execution_count": 93,
      "outputs": []
    },
    {
      "cell_type": "code",
      "metadata": {
        "id": "XJyz-BRDvWIg"
      },
      "source": [
        "def simulate_single_trial(num_opponent_armies, num_my_armies):\n",
        "  \"\"\" Single trial simulation\n",
        "\n",
        "  Args:\n",
        "      num_opponent_armies (int): \n",
        "      num_my_armies (list[int]): a list of numbers to see which is the best \n",
        "\n",
        "  Returns:\n",
        "      list: a list of 1 (my win) or 0 (opponent defended) for possible num_my_armies given   \n",
        "  \"\"\"\n",
        "  # loop for different numbers of my armies to see which strategy is good \n",
        "  \n",
        "  won = []\n",
        "  for i, n in enumerate(num_my_armies):\n",
        "    isDone = False\n",
        "    num_curr_my_armies, num_curr_op_armies = n, num_opponent_armies \n",
        "\n",
        "    while not isDone:\n",
        "      num_curr_my_armies, num_curr_op_armies = simulate_single_attack(num_curr_my_armies, num_curr_op_armies)\n",
        "      \n",
        "      # See if the battle concluded \n",
        "      if (num_curr_op_armies==0):\n",
        "        isDone = True\n",
        "        won.append(1)\n",
        "      elif (num_curr_op_armies>=num_curr_my_armies):\n",
        "        isDone = True\n",
        "        won.append(0)\n",
        "  \n",
        "  return won"
      ],
      "execution_count": 94,
      "outputs": []
    },
    {
      "cell_type": "code",
      "metadata": {
        "id": "1RwskXnQrT8n"
      },
      "source": [
        "# Main simulation part \n",
        "won = [] # 1 for my win; 0 for no win  \n",
        "for i in range(num_trials):\n",
        "  w = simulate_single_trial(num_opponent_armies, num_my_armies)\n",
        "  won.append(w)\n",
        "  # print(i,'-th trial done')\n",
        "\n",
        "won = np.array(won) # Size: trials x possible num_my_armies\n",
        "num_my_armies = np.array(num_my_armies)"
      ],
      "execution_count": 95,
      "outputs": []
    },
    {
      "cell_type": "code",
      "metadata": {
        "id": "x5pAoetFurty"
      },
      "source": [
        "# Analysis  \n",
        "avg_win = won.mean(axis=0)"
      ],
      "execution_count": 96,
      "outputs": []
    },
    {
      "cell_type": "code",
      "metadata": {
        "colab": {
          "base_uri": "https://localhost:8080/",
          "height": 295
        },
        "id": "gke-YFXSzvIm",
        "outputId": "dd6ca9ee-a29e-4e91-988c-d62b1c2ae276"
      },
      "source": [
        "# Plotting \n",
        "fig, ax = plt.subplots(1,1)\n",
        "x = num_my_armies\n",
        "y = avg_win\n",
        "ax.plot(x,y,'bo-')\n",
        "ax.axhline(0.9) # Threshold \n",
        "ax.grid()\n",
        "ax.set_title('Opponent armies: '+ str(num_opponent_armies))\n",
        "ax.set_ylabel('Proportion of win')\n",
        "ax.set_xlabel('Num of my (attacking) armies')\n",
        "\n",
        "plt.show()"
      ],
      "execution_count": 97,
      "outputs": [
        {
          "output_type": "display_data",
          "data": {
            "image/png": "[encoded data removed]",
            "text/plain": [
              "<Figure size 432x288 with 1 Axes>"
            ]
          },
          "metadata": {
            "needs_background": "light"
          }
        }
      ]
    },
    {
      "cell_type": "code",
      "metadata": {
        "id": "_-eBcUoT_HVi"
      },
      "source": [
        ""
      ],
      "execution_count": 89,
      "outputs": []
    }
  ]
}