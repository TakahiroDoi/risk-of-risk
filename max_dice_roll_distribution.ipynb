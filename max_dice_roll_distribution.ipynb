{
 "cells": [
  {
   "cell_type": "code",
   "execution_count": 117,
   "id": "10db053b",
   "metadata": {},
   "outputs": [
    {
     "name": "stdout",
     "output_type": "stream",
     "text": [
      "The autoreload extension is already loaded. To reload it, use:\n",
      "  %reload_ext autoreload\n"
     ]
    }
   ],
   "source": [
    "# max distribution of n dice roll  (n:1,2,3)\n",
    "# \n",
    "# TakaDoi 2021-06-26 \n",
    "\n",
    "# Reload all modules (except those excluded by %aimport) \n",
    "%load_ext autoreload\n",
    "%autoreload 2\n",
    "\n",
    "# Clear variables (forced)\n",
    "%reset -f"
   ]
  },
  {
   "cell_type": "code",
   "execution_count": 118,
   "id": "2d5d81c1",
   "metadata": {},
   "outputs": [],
   "source": [
    "# Matplot lib setup\n",
    "%matplotlib inline\n",
    "\n",
    "import numpy as np\n",
    "import pandas as pd\n",
    "import matplotlib\n",
    "import matplotlib.pyplot as plt\n",
    "import seaborn as sns\n",
    "\n",
    "sns.set_theme()\n",
    "sns.set_context('paper')\n",
    "\n",
    "# sns.set_style('whitegrid')\n",
    "# sns.set_style('dark')"
   ]
  },
  {
   "cell_type": "code",
   "execution_count": 119,
   "id": "72227b6b",
   "metadata": {},
   "outputs": [],
   "source": [
    "# Free parameters \n",
    "num_simulations = 10000"
   ]
  },
  {
   "cell_type": "code",
   "execution_count": 120,
   "id": "8a3879a4",
   "metadata": {},
   "outputs": [],
   "source": [
    "# Fixed parameters \n",
    "max_dice_roll = 6\n",
    "num_dice_roll = [1,2,3]"
   ]
  },
  {
   "cell_type": "code",
   "execution_count": 121,
   "id": "045eba72",
   "metadata": {},
   "outputs": [],
   "source": [
    "df = pd.DataFrame()\n",
    "for n in num_dice_roll:\n",
    "    r = np.random.randint(max_dice_roll, size=(num_simulations, n)) # random integer samples [0-5] \n",
    "    r = r+1 # make it to a die roll number\n",
    "    m = np.amax(r, axis=1) # take max along n-roll axis \n",
    "    # print(r) \n",
    "    # print('max', m)\n",
    "    # print('--------')\n",
    "    \n",
    "    col_name = 'N' + str(n) + '_Dice_Roll'\n",
    "    df[col_name] = m"
   ]
  },
  {
   "cell_type": "code",
   "execution_count": 122,
   "id": "f4a214a5",
   "metadata": {},
   "outputs": [
    {
     "data": {
      "text/html": [
       "<div>\n",
       "<style scoped>\n",
       "    .dataframe tbody tr th:only-of-type {\n",
       "        vertical-align: middle;\n",
       "    }\n",
       "\n",
       "    .dataframe tbody tr th {\n",
       "        vertical-align: top;\n",
       "    }\n",
       "\n",
       "    .dataframe thead th {\n",
       "        text-align: right;\n",
       "    }\n",
       "</style>\n",
       "<table border=\"1\" class=\"dataframe\">\n",
       "  <thead>\n",
       "    <tr style=\"text-align: right;\">\n",
       "      <th></th>\n",
       "      <th>N1_Dice_Roll</th>\n",
       "      <th>N2_Dice_Roll</th>\n",
       "      <th>N3_Dice_Roll</th>\n",
       "    </tr>\n",
       "  </thead>\n",
       "  <tbody>\n",
       "    <tr>\n",
       "      <th>count</th>\n",
       "      <td>10000.000000</td>\n",
       "      <td>10000.00000</td>\n",
       "      <td>10000.000000</td>\n",
       "    </tr>\n",
       "    <tr>\n",
       "      <th>mean</th>\n",
       "      <td>3.488300</td>\n",
       "      <td>4.45220</td>\n",
       "      <td>4.950400</td>\n",
       "    </tr>\n",
       "    <tr>\n",
       "      <th>std</th>\n",
       "      <td>1.707851</td>\n",
       "      <td>1.41291</td>\n",
       "      <td>1.148857</td>\n",
       "    </tr>\n",
       "    <tr>\n",
       "      <th>min</th>\n",
       "      <td>1.000000</td>\n",
       "      <td>1.00000</td>\n",
       "      <td>1.000000</td>\n",
       "    </tr>\n",
       "    <tr>\n",
       "      <th>25%</th>\n",
       "      <td>2.000000</td>\n",
       "      <td>3.00000</td>\n",
       "      <td>4.000000</td>\n",
       "    </tr>\n",
       "    <tr>\n",
       "      <th>50%</th>\n",
       "      <td>4.000000</td>\n",
       "      <td>5.00000</td>\n",
       "      <td>5.000000</td>\n",
       "    </tr>\n",
       "    <tr>\n",
       "      <th>75%</th>\n",
       "      <td>5.000000</td>\n",
       "      <td>6.00000</td>\n",
       "      <td>6.000000</td>\n",
       "    </tr>\n",
       "    <tr>\n",
       "      <th>max</th>\n",
       "      <td>6.000000</td>\n",
       "      <td>6.00000</td>\n",
       "      <td>6.000000</td>\n",
       "    </tr>\n",
       "  </tbody>\n",
       "</table>\n",
       "</div>"
      ],
      "text/plain": [
       "       N1_Dice_Roll  N2_Dice_Roll  N3_Dice_Roll\n",
       "count  10000.000000   10000.00000  10000.000000\n",
       "mean       3.488300       4.45220      4.950400\n",
       "std        1.707851       1.41291      1.148857\n",
       "min        1.000000       1.00000      1.000000\n",
       "25%        2.000000       3.00000      4.000000\n",
       "50%        4.000000       5.00000      5.000000\n",
       "75%        5.000000       6.00000      6.000000\n",
       "max        6.000000       6.00000      6.000000"
      ]
     },
     "execution_count": 122,
     "metadata": {},
     "output_type": "execute_result"
    }
   ],
   "source": [
    "df.describe()"
   ]
  },
  {
   "cell_type": "code",
   "execution_count": 123,
   "id": "3ea47e7b",
   "metadata": {},
   "outputs": [
    {
     "data": {
      "image/png": "[encoded data removed]",
      "text/plain": [
       "<Figure size 1080x360 with 3 Axes>"
      ]
     },
     "metadata": {},
     "output_type": "display_data"
    }
   ],
   "source": [
    "# Plotting \n",
    "num_rows = 1\n",
    "num_cols = len(num_dice_roll) \n",
    "fig, axes = plt.subplots(num_rows, num_cols, figsize = (15,5), sharey=True)\n",
    "fig.suptitle('Max distribution')\n",
    "\n",
    "i = 0\n",
    "for (col_name, col_data) in df.iteritems():\n",
    "    sns.histplot(data=df, x = col_name, discrete=True, stat='probability', ax=axes[i])\n",
    "    axes[i].set_title(col_name)\n",
    "    axes[i].set_xlabel(' ')\n",
    "    i+=1"
   ]
  }
 ],
 "metadata": {
  "kernelspec": {
   "display_name": "Python 3",
   "language": "python",
   "name": "python3"
  },
  "language_info": {
   "codemirror_mode": {
    "name": "ipython",
    "version": 3
   },
   "file_extension": ".py",
   "mimetype": "text/x-python",
   "name": "python",
   "nbconvert_exporter": "python",
   "pygments_lexer": "ipython3",
   "version": "3.8.8"
  }
 },
 "nbformat": 4,
 "nbformat_minor": 5
}
